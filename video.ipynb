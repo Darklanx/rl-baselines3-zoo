{
 "cells": [
  {
   "cell_type": "code",
   "execution_count": 1,
   "id": "511ad7aa",
   "metadata": {},
   "outputs": [],
   "source": [
    "import os\n",
    "import glob\n",
    "from utils.utils import ALGOS, create_test_env, get_latest_run_id, get_saved_hyperparams\n",
    "from stable_baselines3.common.min_atar import make_min_atar_env\n",
    "import numpy as np\n",
    "import matplotlib.colors as colors\n",
    "from matplotlib.figure import Figure\n",
    "import seaborn as sns\n",
    "import matplotlib.pyplot as plt\n",
    "import matplotlib.animation as animation"
   ]
  },
  {
   "cell_type": "code",
   "execution_count": 2,
   "id": "cb5462df",
   "metadata": {},
   "outputs": [],
   "source": [
    "ENV = \"breakout\"\n",
    "USE_MINATAR = True\n",
    "ALGO = \"offpac\"\n",
    "SEED = 0\n",
    "# LOAD_BEST = True\n",
    "FOLDER = \"logs\"\n",
    "LOG_ID = 15\n",
    "VIDEO_LENGTH = 10000"
   ]
  },
  {
   "cell_type": "code",
   "execution_count": 3,
   "id": "ebd24468",
   "metadata": {},
   "outputs": [
    {
     "name": "stdout",
     "output_type": "stream",
     "text": [
      "./logs/offpac/breakout_15/best_model.zip\n"
     ]
    }
   ],
   "source": [
    "ALGO_DIR = os.path.join(FOLDER, ALGO, ENV)\n",
    "log_dir = glob.glob(\"./\" + ALGO_DIR  + \"_{}\".format(LOG_ID))[0]\n",
    "model_path = os.path.join(log_dir, \"best_model.zip\")\n",
    "print(model_path)\n",
    "assert(os.path.isfile(model_path))\n",
    "hyperparams, stats_path = get_saved_hyperparams(log_dir)\n"
   ]
  },
  {
   "cell_type": "code",
   "execution_count": 4,
   "id": "a954d820",
   "metadata": {},
   "outputs": [
    {
     "name": "stdout",
     "output_type": "stream",
     "text": [
      "(1, 4, 10, 10)\n"
     ]
    }
   ],
   "source": [
    "# env = make_min_atar_env(ENV, SEED)\n",
    "env = create_test_env(\n",
    "        ENV,\n",
    "        n_envs=1,\n",
    "        stats_path=stats_path,\n",
    "        seed=SEED,\n",
    "        log_dir=None,\n",
    "        should_render=False,\n",
    "        hyperparams=hyperparams,\n",
    "        use_min_atar=True\n",
    "    )\n",
    "model = ALGOS[ALGO].load(model_path, _init_setup_model=True)\n",
    "obs = env.reset()\n",
    "print(obs.shape)\n",
    "n_channel = obs.shape[1]\n",
    "cmap = sns.color_palette(\"cubehelix\", n_channel)\n",
    "cmap.insert(0, (0, 0, 0))\n",
    "cmap = colors.ListedColormap(cmap)"
   ]
  },
  {
   "cell_type": "code",
   "execution_count": 5,
   "id": "e5698a37",
   "metadata": {},
   "outputs": [
    {
     "name": "stdout",
     "output_type": "stream",
     "text": [
      "(10, 10)\n"
     ]
    }
   ],
   "source": [
    "%matplotlib inline\n",
    "obs = env.reset()\n",
    "\n",
    "def render(obs):\n",
    "    global cmap\n",
    "    obs = np.squeeze(obs)\n",
    "    obs = np.moveaxis(obs, 0, -1)\n",
    "    numerical_state = np.amax(obs * np.reshape(np.arange(n_channel) + 1, (1, 1, -1)), 2) + 0.5\n",
    "    return numerical_state\n",
    "numerical_state = render(obs)\n",
    "\n",
    "print(numerical_state.shape)\n"
   ]
  },
  {
   "cell_type": "code",
   "execution_count": null,
   "id": "e44c406d",
   "metadata": {},
   "outputs": [
    {
     "name": "stdout",
     "output_type": "stream",
     "text": [
      "0\n",
      "100\n",
      "200\n",
      "300\n",
      "400\n",
      "500\n",
      "600\n",
      "700\n",
      "800\n",
      "900\n",
      "1000\n",
      "1100\n",
      "1200\n",
      "1300\n",
      "1400\n",
      "1500\n",
      "1600\n",
      "1700\n",
      "1800\n",
      "1900\n",
      "2000\n",
      "2100\n",
      "2200\n",
      "2300\n",
      "2400\n",
      "2500\n",
      "2600\n",
      "2700\n",
      "2800\n",
      "2900\n",
      "3000\n",
      "3100\n",
      "3200\n",
      "3300\n",
      "3400\n",
      "3500\n",
      "3600\n",
      "3700\n",
      "3800\n",
      "3900\n",
      "4000\n",
      "4100\n",
      "4200\n",
      "4300\n",
      "4400\n",
      "4500\n",
      "4600\n",
      "4700\n",
      "4800\n",
      "4900\n",
      "5000\n",
      "5100\n",
      "5200\n",
      "5300\n",
      "5400\n",
      "5500\n",
      "5600\n",
      "5700\n",
      "5800\n",
      "5900\n",
      "6000\n",
      "6100\n",
      "6200\n",
      "6300\n",
      "6400\n",
      "6500\n",
      "6600\n",
      "6700\n",
      "6800\n",
      "6900\n",
      "7000\n",
      "7100\n",
      "7200\n",
      "7300\n",
      "7400\n",
      "7500\n",
      "7600\n",
      "7700\n",
      "7800\n",
      "7900\n",
      "8000\n",
      "8100\n",
      "8200\n",
      "8300\n",
      "8400\n",
      "8500\n",
      "8600\n",
      "8700\n",
      "8800\n",
      "8900\n",
      "9000\n",
      "9100\n",
      "9200\n",
      "9300\n",
      "9400\n",
      "9500\n",
      "9600\n",
      "9700\n",
      "9800\n",
      "9900\n",
      "Reward:  [961.]\n"
     ]
    },
    {
     "name": "stderr",
     "output_type": "stream",
     "text": [
      "MovieWriter ffmpeg unavailable; using Pillow instead.\n"
     ]
    }
   ],
   "source": [
    "\n",
    "\n",
    "\n",
    "frames = []\n",
    "failed_times = 0\n",
    "total_reward = 0\n",
    "for i in range(VIDEO_LENGTH):\n",
    "    action, _ = model.predict(obs, deterministic=True)\n",
    "    obs, reward, done, _ = env.step(action)\n",
    "    total_reward += reward\n",
    "    numerical_state = render(obs)\n",
    "    frames.append(numerical_state)\n",
    "    if done:\n",
    "        break\n",
    "#         failed_times +=1\n",
    "    if i % 100 == 0:\n",
    "        print(i)\n",
    "ims = []\n",
    "print(\"Reward: \", total_reward)\n",
    "# print(\"Failed times: \", failed_times)\n",
    "fig = plt.figure()\n",
    "for frame in frames:\n",
    "    im = plt.imshow(frame, animated=True)\n",
    "    ims.append([im])\n",
    "\n",
    "ani = animation.ArtistAnimation(fig, ims, interval=50, blit=True,\n",
    "                                repeat_delay=1000)\n",
    "ani.save('dynamic_images.gif')\n",
    "print(\"saved!\")"
   ]
  },
  {
   "cell_type": "code",
   "execution_count": null,
   "id": "1b5970f4",
   "metadata": {},
   "outputs": [],
   "source": []
  }
 ],
 "metadata": {
  "kernelspec": {
   "display_name": "Python 3 (ipykernel)",
   "language": "python",
   "name": "python3"
  },
  "language_info": {
   "codemirror_mode": {
    "name": "ipython",
    "version": 3
   },
   "file_extension": ".py",
   "mimetype": "text/x-python",
   "name": "python",
   "nbconvert_exporter": "python",
   "pygments_lexer": "ipython3",
   "version": "3.7.5"
  }
 },
 "nbformat": 4,
 "nbformat_minor": 5
}
